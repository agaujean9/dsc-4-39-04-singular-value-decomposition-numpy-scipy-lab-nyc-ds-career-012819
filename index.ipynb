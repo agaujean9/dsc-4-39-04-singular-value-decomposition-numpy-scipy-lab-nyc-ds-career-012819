{
 "cells": [
  {
   "cell_type": "markdown",
   "metadata": {},
   "source": [
    "# Singular Value Decomposition with Numpy and SciPy - Lab"
   ]
  },
  {
   "cell_type": "markdown",
   "metadata": {},
   "source": [
    "## Introduction\n",
    "\n",
    "In this lab, we will build a basic version of low-rank matrix factorization engine for recommending movies in using Numpy and SciPy. The purpose of this lesson to help develop a sound understanding of how this process works in detail, before we implement it in PySpark. We will use a small movie recommendation dataset suitable for such experiments. The system should make not highly accurate, yet meaningful recommendations. \n",
    "\n",
    "## Objectives\n",
    "\n",
    "You will be able to:\n",
    "\n",
    "- Build a basic recommendation system using MovieLense 1 million movies dataset\n",
    "- Use Scipy and Numpy to build a recommendation system using matrix factorization. \n"
   ]
  },
  {
   "cell_type": "markdown",
   "metadata": {},
   "source": [
    "## Dataset\n",
    "For this lab, we will use  a dataset of 1 million movie ratings  available from the [MovieLens](http://grouplens.org/datasets/movielens/) project collected by GroupLens Research at the University of Minnesota. The website offers many versions and subsets of the complete MovieLens dataset. We have downloaded the 1 million movies subset for you and you can find it under the folder `ml-1m`. [Visit this link](http://files.grouplens.org/datasets/movielens/ml-latest-README.html) and also the MovieLens site above to get an understanding of format for included files before moving on:\n",
    "\n",
    "- ratings.dat\n",
    "- users.dat\n",
    "- movies.dat\n",
    "\n",
    "Let's first read our dataset into pandas dataframe before moving on. \n",
    "\n",
    "Our datasets are `.dat` format with features split using the delimiter `'::'`. Perform following tasks:\n",
    "\n",
    "- Read the files `ratings.dat`, `movies.dat` and `users.dat` using python's `open()`. Use `encoding='latin-1'` for these files\n",
    "- Split above files on delimiter '::' and create arrays for users , movies and ratings\n",
    "\n",
    "- Create ratings and movies dataframes from arrays above with columns:\n",
    "    - `ratings = ['UID', 'MID', 'Rating', 'Time']`\n",
    "    - `movies = ['MID', 'Title', 'Genre']`\n",
    "- View the contents of `movies` and `ratings` datasets\n",
    "\n",
    "*Note: Make sure to change the appropriate datatypes to int (numeric) in these datasets.*"
   ]
  },
  {
   "cell_type": "code",
   "execution_count": 1,
   "metadata": {},
   "outputs": [],
   "source": [
    "import pandas as pd\n",
    "import numpy as np\n",
    "\n",
    "# Cerate movies, ratings and users dataframes (reading files, splitting, creating arrays and dataframes)\n",
    "ratings = pd.DataFrame(np.array([i.strip().split(\"::\") for i in open('ml-1m/ratings.dat', 'r', encoding='latin-1').readlines()]),\n",
    "                       columns = ['UID', 'MID', 'Rating', 'Time'], dtype = int)\n",
    "movies = pd.DataFrame(np.array([i.strip().split(\"::\") for i in open('ml-1m/movies.dat', 'r',  encoding='latin-1').readlines()]),\n",
    "                         columns = ['MID', 'Title', 'Genre'])\n",
    "movies['MID'] = movies['MID'].apply(pd.to_numeric)\n",
    "\n",
    "\n",
    "users= np.array([i.strip().split(\"::\") for i in open('ml-1m/users.dat', 'r',  encoding='latin-1').readlines()])\n",
    "     \n"
   ]
  },
  {
   "cell_type": "code",
   "execution_count": 2,
   "metadata": {},
   "outputs": [
    {
     "data": {
      "text/plain": [
       "array([['1', 'F', '1', '10', '48067'],\n",
       "       ['2', 'M', '56', '16', '70072'],\n",
       "       ['3', 'M', '25', '15', '55117'],\n",
       "       ...,\n",
       "       ['6038', 'F', '56', '1', '14706'],\n",
       "       ['6039', 'F', '45', '0', '01060'],\n",
       "       ['6040', 'M', '25', '6', '11106']], dtype='<U10')"
      ]
     },
     "execution_count": 2,
     "metadata": {},
     "output_type": "execute_result"
    }
   ],
   "source": [
    "users"
   ]
  },
  {
   "cell_type": "code",
   "execution_count": 3,
   "metadata": {},
   "outputs": [
    {
     "name": "stdout",
     "output_type": "stream",
     "text": [
      "   MID                               Title                         Genre\n",
      "0    1                    Toy Story (1995)   Animation|Children's|Comedy\n",
      "1    2                      Jumanji (1995)  Adventure|Children's|Fantasy\n",
      "2    3             Grumpier Old Men (1995)                Comedy|Romance\n",
      "3    4            Waiting to Exhale (1995)                  Comedy|Drama\n",
      "4    5  Father of the Bride Part II (1995)                        Comedy\n",
      "\n",
      "   UID   MID  Rating       Time\n",
      "0    1  1193       5  978300760\n",
      "1    1   661       3  978302109\n",
      "2    1   914       3  978301968\n",
      "3    1  3408       4  978300275\n",
      "4    1  2355       5  978824291\n"
     ]
    }
   ],
   "source": [
    "# Uncomment Below\n",
    "\n",
    "print(movies.head())\n",
    "print()\n",
    "print(ratings.head())"
   ]
  },
  {
   "cell_type": "markdown",
   "metadata": {},
   "source": [
    "## Creating the Utility Matrix \n",
    "\n",
    "Matrix factorization, as we saw in the previous lesson, uses a \"Utility Matrix\" of users x movies. The intersection points between users and movies indicate the ratings users have given to movies. We saw how this is mostly sparse matrix. Here is a quick refresher below:\n",
    "\n",
    "<img src=\"utility.jpg\" width=400>\n",
    "\n",
    "Next, our job is to create such a matrix from the ratings table above in order to proceed forward with SVD. \n",
    "\n",
    "- Create a utility matrix `A` to contain one row per user and one column per movie. Pivot `ratings` dataframe to achieve this. "
   ]
  },
  {
   "cell_type": "code",
   "execution_count": 4,
   "metadata": {},
   "outputs": [
    {
     "data": {
      "text/html": [
       "<div>\n",
       "<style scoped>\n",
       "    .dataframe tbody tr th:only-of-type {\n",
       "        vertical-align: middle;\n",
       "    }\n",
       "\n",
       "    .dataframe tbody tr th {\n",
       "        vertical-align: top;\n",
       "    }\n",
       "\n",
       "    .dataframe thead th {\n",
       "        text-align: right;\n",
       "    }\n",
       "</style>\n",
       "<table border=\"1\" class=\"dataframe\">\n",
       "  <thead>\n",
       "    <tr style=\"text-align: right;\">\n",
       "      <th>MID</th>\n",
       "      <th>1</th>\n",
       "      <th>2</th>\n",
       "      <th>3</th>\n",
       "      <th>4</th>\n",
       "      <th>5</th>\n",
       "      <th>6</th>\n",
       "      <th>7</th>\n",
       "      <th>8</th>\n",
       "      <th>9</th>\n",
       "      <th>10</th>\n",
       "      <th>...</th>\n",
       "      <th>3943</th>\n",
       "      <th>3944</th>\n",
       "      <th>3945</th>\n",
       "      <th>3946</th>\n",
       "      <th>3947</th>\n",
       "      <th>3948</th>\n",
       "      <th>3949</th>\n",
       "      <th>3950</th>\n",
       "      <th>3951</th>\n",
       "      <th>3952</th>\n",
       "    </tr>\n",
       "    <tr>\n",
       "      <th>UID</th>\n",
       "      <th></th>\n",
       "      <th></th>\n",
       "      <th></th>\n",
       "      <th></th>\n",
       "      <th></th>\n",
       "      <th></th>\n",
       "      <th></th>\n",
       "      <th></th>\n",
       "      <th></th>\n",
       "      <th></th>\n",
       "      <th></th>\n",
       "      <th></th>\n",
       "      <th></th>\n",
       "      <th></th>\n",
       "      <th></th>\n",
       "      <th></th>\n",
       "      <th></th>\n",
       "      <th></th>\n",
       "      <th></th>\n",
       "      <th></th>\n",
       "      <th></th>\n",
       "    </tr>\n",
       "  </thead>\n",
       "  <tbody>\n",
       "    <tr>\n",
       "      <th>1</th>\n",
       "      <td>5.0</td>\n",
       "      <td>0.0</td>\n",
       "      <td>0.0</td>\n",
       "      <td>0.0</td>\n",
       "      <td>0.0</td>\n",
       "      <td>0.0</td>\n",
       "      <td>0.0</td>\n",
       "      <td>0.0</td>\n",
       "      <td>0.0</td>\n",
       "      <td>0.0</td>\n",
       "      <td>...</td>\n",
       "      <td>0.0</td>\n",
       "      <td>0.0</td>\n",
       "      <td>0.0</td>\n",
       "      <td>0.0</td>\n",
       "      <td>0.0</td>\n",
       "      <td>0.0</td>\n",
       "      <td>0.0</td>\n",
       "      <td>0.0</td>\n",
       "      <td>0.0</td>\n",
       "      <td>0.0</td>\n",
       "    </tr>\n",
       "    <tr>\n",
       "      <th>2</th>\n",
       "      <td>0.0</td>\n",
       "      <td>0.0</td>\n",
       "      <td>0.0</td>\n",
       "      <td>0.0</td>\n",
       "      <td>0.0</td>\n",
       "      <td>0.0</td>\n",
       "      <td>0.0</td>\n",
       "      <td>0.0</td>\n",
       "      <td>0.0</td>\n",
       "      <td>0.0</td>\n",
       "      <td>...</td>\n",
       "      <td>0.0</td>\n",
       "      <td>0.0</td>\n",
       "      <td>0.0</td>\n",
       "      <td>0.0</td>\n",
       "      <td>0.0</td>\n",
       "      <td>0.0</td>\n",
       "      <td>0.0</td>\n",
       "      <td>0.0</td>\n",
       "      <td>0.0</td>\n",
       "      <td>0.0</td>\n",
       "    </tr>\n",
       "    <tr>\n",
       "      <th>3</th>\n",
       "      <td>0.0</td>\n",
       "      <td>0.0</td>\n",
       "      <td>0.0</td>\n",
       "      <td>0.0</td>\n",
       "      <td>0.0</td>\n",
       "      <td>0.0</td>\n",
       "      <td>0.0</td>\n",
       "      <td>0.0</td>\n",
       "      <td>0.0</td>\n",
       "      <td>0.0</td>\n",
       "      <td>...</td>\n",
       "      <td>0.0</td>\n",
       "      <td>0.0</td>\n",
       "      <td>0.0</td>\n",
       "      <td>0.0</td>\n",
       "      <td>0.0</td>\n",
       "      <td>0.0</td>\n",
       "      <td>0.0</td>\n",
       "      <td>0.0</td>\n",
       "      <td>0.0</td>\n",
       "      <td>0.0</td>\n",
       "    </tr>\n",
       "    <tr>\n",
       "      <th>4</th>\n",
       "      <td>0.0</td>\n",
       "      <td>0.0</td>\n",
       "      <td>0.0</td>\n",
       "      <td>0.0</td>\n",
       "      <td>0.0</td>\n",
       "      <td>0.0</td>\n",
       "      <td>0.0</td>\n",
       "      <td>0.0</td>\n",
       "      <td>0.0</td>\n",
       "      <td>0.0</td>\n",
       "      <td>...</td>\n",
       "      <td>0.0</td>\n",
       "      <td>0.0</td>\n",
       "      <td>0.0</td>\n",
       "      <td>0.0</td>\n",
       "      <td>0.0</td>\n",
       "      <td>0.0</td>\n",
       "      <td>0.0</td>\n",
       "      <td>0.0</td>\n",
       "      <td>0.0</td>\n",
       "      <td>0.0</td>\n",
       "    </tr>\n",
       "    <tr>\n",
       "      <th>5</th>\n",
       "      <td>0.0</td>\n",
       "      <td>0.0</td>\n",
       "      <td>0.0</td>\n",
       "      <td>0.0</td>\n",
       "      <td>0.0</td>\n",
       "      <td>2.0</td>\n",
       "      <td>0.0</td>\n",
       "      <td>0.0</td>\n",
       "      <td>0.0</td>\n",
       "      <td>0.0</td>\n",
       "      <td>...</td>\n",
       "      <td>0.0</td>\n",
       "      <td>0.0</td>\n",
       "      <td>0.0</td>\n",
       "      <td>0.0</td>\n",
       "      <td>0.0</td>\n",
       "      <td>0.0</td>\n",
       "      <td>0.0</td>\n",
       "      <td>0.0</td>\n",
       "      <td>0.0</td>\n",
       "      <td>0.0</td>\n",
       "    </tr>\n",
       "  </tbody>\n",
       "</table>\n",
       "<p>5 rows × 3706 columns</p>\n",
       "</div>"
      ],
      "text/plain": [
       "MID  1     2     3     4     5     6     7     8     9     10    ...   3943  \\\n",
       "UID                                                              ...          \n",
       "1     5.0   0.0   0.0   0.0   0.0   0.0   0.0   0.0   0.0   0.0  ...    0.0   \n",
       "2     0.0   0.0   0.0   0.0   0.0   0.0   0.0   0.0   0.0   0.0  ...    0.0   \n",
       "3     0.0   0.0   0.0   0.0   0.0   0.0   0.0   0.0   0.0   0.0  ...    0.0   \n",
       "4     0.0   0.0   0.0   0.0   0.0   0.0   0.0   0.0   0.0   0.0  ...    0.0   \n",
       "5     0.0   0.0   0.0   0.0   0.0   2.0   0.0   0.0   0.0   0.0  ...    0.0   \n",
       "\n",
       "MID  3944  3945  3946  3947  3948  3949  3950  3951  3952  \n",
       "UID                                                        \n",
       "1     0.0   0.0   0.0   0.0   0.0   0.0   0.0   0.0   0.0  \n",
       "2     0.0   0.0   0.0   0.0   0.0   0.0   0.0   0.0   0.0  \n",
       "3     0.0   0.0   0.0   0.0   0.0   0.0   0.0   0.0   0.0  \n",
       "4     0.0   0.0   0.0   0.0   0.0   0.0   0.0   0.0   0.0  \n",
       "5     0.0   0.0   0.0   0.0   0.0   0.0   0.0   0.0   0.0  \n",
       "\n",
       "[5 rows x 3706 columns]"
      ]
     },
     "execution_count": 4,
     "metadata": {},
     "output_type": "execute_result"
    }
   ],
   "source": [
    "# Create a utility matrix A by pivoting ratings.df\n",
    "# A = ratings.pivot(index)\n",
    "A = ratings.pivot(index = 'UID', columns = 'MID', values = 'Rating').fillna(0) \n",
    "A.head()\n",
    "# Code here"
   ]
  },
  {
   "cell_type": "markdown",
   "metadata": {},
   "source": [
    "Finally, let's perform mean normalization on our utility matrix, and save it as a numpy array for decomposition tasks."
   ]
  },
  {
   "cell_type": "code",
   "execution_count": 6,
   "metadata": {},
   "outputs": [
    {
     "data": {
      "text/plain": [
       "array([[ 4.94009714, -0.05990286, -0.05990286, ..., -0.05990286,\n",
       "        -0.05990286, -0.05990286],\n",
       "       [-0.12924987, -0.12924987, -0.12924987, ..., -0.12924987,\n",
       "        -0.12924987, -0.12924987],\n",
       "       [-0.05369671, -0.05369671, -0.05369671, ..., -0.05369671,\n",
       "        -0.05369671, -0.05369671],\n",
       "       ...,\n",
       "       [ 3.85429034, -0.14570966, -0.14570966, ..., -0.14570966,\n",
       "        -0.14570966, -0.14570966],\n",
       "       [ 4.89314625, -0.10685375, -0.10685375, ..., -0.10685375,\n",
       "        -0.10685375, -0.10685375],\n",
       "       [ 4.55477604,  4.55477604, -0.44522396, ..., -0.44522396,\n",
       "        -0.44522396, -0.44522396]])"
      ]
     },
     "execution_count": 6,
     "metadata": {},
     "output_type": "execute_result"
    }
   ],
   "source": [
    "# Mean normalize dataframe A to numpy array A_norm\n",
    "A_vals = A.values\n",
    "ratings_mean = np.mean(A_vals, axis = 1)\n",
    "A_norm = A_vals - ratings_mean.reshape(-1, 1)\n",
    "\n",
    "# Code here \n",
    "\n"
   ]
  },
  {
   "cell_type": "markdown",
   "metadata": {},
   "source": [
    "## Matrix Factorization with SVD\n",
    "\n",
    "SVD can help us decomposes the matrix $A$ into the best lower rank approximation of the original matrix $A$. Mathematically, it decomposes $A$ into a two unitary matrices and a diagonal matrix:\n",
    "\n",
    "$$\\begin{equation}\n",
    "A = U\\Sigma V^{T}\n",
    "\\end{equation}$$\n",
    "\n",
    "A above is users' ratings matrix (utility), $U$ is the user \"features\" matrix, $\\Sigma$ is the diagonal matrix of singular values (essentially weights), and $V^{T}$ is the movie \"features\" matrix. $U$ and $V^{T}$ are orthogonal, and represent different things. $U$ represents how much users \"like\" each feature and $V^{T}$ represents how relevant each feature is to each movie.\n",
    "\n",
    "To get the lower rank approximation, we take these matrices and keep only the top $k$ features, which we think of as the underlying tastes and preferences vectors.\n",
    "\n",
    "Perform following tasks:\n",
    "- Import `svds` from Scipy\n",
    "- decompose A_norm using 50 factors i.e. pass `k=50` argument to `svds()`\n"
   ]
  },
  {
   "cell_type": "code",
   "execution_count": 8,
   "metadata": {},
   "outputs": [],
   "source": [
    "from scipy.sparse.linalg import svds\n",
    "U, sigma, Vt = svds(A_norm, k = 50)\n",
    "# Code here \n"
   ]
  },
  {
   "cell_type": "markdown",
   "metadata": {},
   "source": [
    "### Creating diagonal matrix for sigma factors\n",
    "\n",
    "The sigma above is returned as a 1 dimensional array of latent factor values. As we need to perform matrix multiplication in our next part, lets convert it to a diagonal matrix using `np.diag()`. [Here is an explanation for this](https://math.stackexchange.com/questions/1731183/convert-vector-into-diagonal-matrix)\n",
    "\n",
    "- Convert sigma factors into a diagonal matrix with `np.diag()`\n",
    "- Check and confirm the shape of `sigma` befora and after conversion "
   ]
  },
  {
   "cell_type": "code",
   "execution_count": 13,
   "metadata": {},
   "outputs": [
    {
     "data": {
      "text/plain": [
       "(50, 50)"
      ]
     },
     "execution_count": 13,
     "metadata": {},
     "output_type": "execute_result"
    }
   ],
   "source": [
    "sigma = np.diag(sigma) \n",
    "# Code here"
   ]
  },
  {
   "cell_type": "markdown",
   "metadata": {},
   "source": [
    "Excellent, We changed sigma from a vector of size fifty to a 2D diagonal matrix of size 50x50. We can now move on to making predictions from our decomposed matrices. "
   ]
  },
  {
   "cell_type": "markdown",
   "metadata": {},
   "source": [
    "## Making Predictions from the Decomposed Matrices\n",
    "\n",
    "Now we have everything required to make movie ratings predictions for every user. We will do it all at once by following the math and matrix multiply $U$, $\\Sigma$, and $V^{T}$ back to get the rank $k=50$ __approximation of $A$__. Perform following tasks to achieve this\n",
    "\n",
    "* Use `np.dot()` to multiply $U,\\Sigma, V$\n",
    "* add the user ratings means back to get the actual __star__ ratings prediction."
   ]
  },
  {
   "cell_type": "code",
   "execution_count": 18,
   "metadata": {},
   "outputs": [
    {
     "data": {
      "text/plain": [
       "array([[ 4.28886061,  0.14305516, -0.1950795 , ...,  0.03191195,\n",
       "         0.05044975,  0.08891033],\n",
       "       [ 0.74471587,  0.16965927,  0.33541808, ..., -0.10110207,\n",
       "        -0.0540982 , -0.14018846],\n",
       "       [ 1.81882382,  0.45613623,  0.09097801, ...,  0.01234452,\n",
       "         0.01514752, -0.10995596],\n",
       "       ...,\n",
       "       [ 0.61908871, -0.16176859,  0.10673806, ..., -0.01336948,\n",
       "        -0.0303543 , -0.11493552],\n",
       "       [ 1.50360483, -0.03620761, -0.16126817, ..., -0.01090407,\n",
       "        -0.03864749, -0.16835943],\n",
       "       [ 1.99624816, -0.18598715, -0.1564782 , ..., -0.00664061,\n",
       "         0.12706713,  0.28500112]])"
      ]
     },
     "execution_count": 18,
     "metadata": {},
     "output_type": "execute_result"
    }
   ],
   "source": [
    "predictions = np.dot(np.dot(U, sigma), Vt) + ratings_mean.reshape(-1, 1)\n",
    "# Code here \n",
    "\n"
   ]
  },
  {
   "cell_type": "markdown",
   "metadata": {},
   "source": [
    "#### For a practical system, the value of `k` above would be identified through creating test and training datasets and selecting optimal value of this parameter. We will leave this bit for our detailed experiment in the next lab. \n",
    "\n",
    "Here, we'll see how to make recommendations based on `predictions` array created above.\n",
    "\n"
   ]
  },
  {
   "cell_type": "markdown",
   "metadata": {},
   "source": [
    "### Making Recommendations \n",
    "\n",
    "With the predictions matrix for every user, we can build a function to recommend movies for any user. We need to return the movies with the highest predicted rating that the specified user hasn't already rated. We will also merge in the user information to get a more complete picture of the recommendations. We will also return the list of movies the user has already rated, for the sake of comparison.\n",
    "- Create a Dataframe from predictions and view contents\n",
    "- Use column names of `A` as the new names for this dataframe"
   ]
  },
  {
   "cell_type": "code",
   "execution_count": 43,
   "metadata": {},
   "outputs": [
    {
     "data": {
      "text/plain": [
       "523     6.233296\n",
       "3390    6.197566\n",
       "5681    6.123263\n",
       "715     5.859399\n",
       "4276    5.761654\n",
       "3284    5.674888\n",
       "2050    5.494524\n",
       "4577    5.418273\n",
       "148     5.374215\n",
       "3424    5.343617\n",
       "2908    5.287345\n",
       "271     5.219546\n",
       "4155    5.204170\n",
       "5836    5.200930\n",
       "2303    5.003114\n",
       "4646    4.999153\n",
       "5045    4.997719\n",
       "3822    4.992327\n",
       "3525    4.949577\n",
       "4311    4.934102\n",
       "4168    4.911357\n",
       "3470    4.903939\n",
       "668     4.877170\n",
       "4519    4.769244\n",
       "201     4.742435\n",
       "4731    4.740759\n",
       "3538    4.731489\n",
       "1612    4.715400\n",
       "1666    4.699478\n",
       "1834    4.683268\n",
       "          ...   \n",
       "5599   -0.774100\n",
       "2382   -0.784441\n",
       "6012   -0.784564\n",
       "3006   -0.795997\n",
       "1118   -0.796968\n",
       "3001   -0.802194\n",
       "498    -0.807144\n",
       "74     -0.808741\n",
       "3610   -0.821680\n",
       "3714   -0.822043\n",
       "1672   -0.823327\n",
       "1722   -0.825200\n",
       "5449   -0.839697\n",
       "2718   -0.844723\n",
       "2003   -0.856140\n",
       "4194   -0.882744\n",
       "5770   -0.885148\n",
       "3457   -0.895581\n",
       "4903   -0.910650\n",
       "4085   -0.927889\n",
       "4000   -0.931872\n",
       "2194   -0.963731\n",
       "4957   -0.973466\n",
       "9      -0.981174\n",
       "342    -1.116228\n",
       "4332   -1.163581\n",
       "3517   -1.197032\n",
       "2564   -1.279711\n",
       "3546   -1.420589\n",
       "1670   -1.495671\n",
       "Name: 6, Length: 6040, dtype: float64"
      ]
     },
     "execution_count": 43,
     "metadata": {},
     "output_type": "execute_result"
    }
   ],
   "source": [
    "import pandas as pd \n",
    "columns = A.columns\n",
    "predictions_df = pd.DataFrame(predictions, columns = columns) \n",
    "# Code here \n",
    "df[6].sort_values(ascending = False)"
   ]
  },
  {
   "cell_type": "markdown",
   "metadata": {},
   "source": [
    "Now we have a predictions dataframe composed from a reduced factors. We can now can predicted recommendations for every user. We will create a new function `recommender()` as shown below: \n",
    "\n",
    "- `recommender()`\n",
    "    - Inputs: predictions dataframe , chosen UserID, movies dataframe, original ratings df, num_recommendations\n",
    "    - Outputs: Movies already rated by user, predicted ratings for remaining movies for user\n",
    "\n",
    "- Get and set of predictions for selected user and sort in descending order\n",
    "- Get the movies already rated by user and sort them in descending order by rating\n",
    "- Create a set of recommendations for all movies, not yet rated by the user"
   ]
  },
  {
   "cell_type": "code",
   "execution_count": 44,
   "metadata": {},
   "outputs": [],
   "source": [
    "# Recommending top movies not yet rated by user\n",
    "def recommender(predictions_df, UID, movies_df, original_ratings_df, num_recommendations = 5):\n",
    "    \n",
    "    # Get and sort the user's predictions\n",
    "    user_row = UID - 1 # UID starts at 1, not 0\n",
    "    sorted_predictions = predictions_df.iloc[user_row].sort_values(ascending = False) \n",
    "    \n",
    "    # Get the original user data and merge in the movie information \n",
    "    user_data = original_ratings_df[original_ratings_df.UID == (UID)]\n",
    "    user_full = user_data.merge(movies_df, how = 'left', left_on = 'MID', right_on = 'MID').sort_values(['Rating'], ascending=False) \n",
    "\n",
    "    \n",
    "    # Recommend the highest predicted rating movies that the user hasn't seen yet.\n",
    "    recommendations = movies_df[~movies_df['MID'].isin(user_full['MID'])] \\\n",
    "                      .merge(pd.DataFrame(sorted_predictions).reset_index(), \n",
    "                             how = 'left', left_on = 'MID', right_on = 'MID') \\\n",
    "                      .rename(columns = {user_row: 'Predictions'}) \\\n",
    "                      .sort_values('Predictions', ascending = False) \\\n",
    "                      .iloc[:num_recommendations, :-1]\n",
    "                    \n",
    "    # Print user information\n",
    "\n",
    "    \n",
    "    print ('User {0} has already rated {1} movies.'.format(UID, user_full.shape[0]))\n",
    "    print ('Recommending highest {0} predicted ratings movies not already rated.'.format(num_recommendations))\n",
    "    return user_full, recommendations\n"
   ]
  },
  {
   "cell_type": "markdown",
   "metadata": {},
   "source": [
    "Using above function, we can now get a set of recommendations for any user. "
   ]
  },
  {
   "cell_type": "code",
   "execution_count": 45,
   "metadata": {},
   "outputs": [
    {
     "name": "stdout",
     "output_type": "stream",
     "text": [
      "User Information\n",
      "User 100 has already rated 76 movies.\n",
      "Recommending highest 10 predicted ratings movies not already rated.\n"
     ]
    }
   ],
   "source": [
    "# Get a list of already created and recommended movies for a selected user\n",
    "# Uncomment to run below\n",
    "\n",
    "\n",
    "rated, recommended = recommender(predictions_df, 100, movies, ratings, 10)"
   ]
  },
  {
   "cell_type": "code",
   "execution_count": 46,
   "metadata": {},
   "outputs": [
    {
     "data": {
      "text/html": [
       "<div>\n",
       "<style scoped>\n",
       "    .dataframe tbody tr th:only-of-type {\n",
       "        vertical-align: middle;\n",
       "    }\n",
       "\n",
       "    .dataframe tbody tr th {\n",
       "        vertical-align: top;\n",
       "    }\n",
       "\n",
       "    .dataframe thead th {\n",
       "        text-align: right;\n",
       "    }\n",
       "</style>\n",
       "<table border=\"1\" class=\"dataframe\">\n",
       "  <thead>\n",
       "    <tr style=\"text-align: right;\">\n",
       "      <th></th>\n",
       "      <th>UID</th>\n",
       "      <th>MID</th>\n",
       "      <th>Rating</th>\n",
       "      <th>Time</th>\n",
       "      <th>Title</th>\n",
       "      <th>Genre</th>\n",
       "    </tr>\n",
       "  </thead>\n",
       "  <tbody>\n",
       "    <tr>\n",
       "      <th>1</th>\n",
       "      <td>100</td>\n",
       "      <td>800</td>\n",
       "      <td>5</td>\n",
       "      <td>977593915</td>\n",
       "      <td>Lone Star (1996)</td>\n",
       "      <td>Drama|Mystery</td>\n",
       "    </tr>\n",
       "    <tr>\n",
       "      <th>63</th>\n",
       "      <td>100</td>\n",
       "      <td>527</td>\n",
       "      <td>5</td>\n",
       "      <td>977594839</td>\n",
       "      <td>Schindler's List (1993)</td>\n",
       "      <td>Drama|War</td>\n",
       "    </tr>\n",
       "    <tr>\n",
       "      <th>16</th>\n",
       "      <td>100</td>\n",
       "      <td>919</td>\n",
       "      <td>5</td>\n",
       "      <td>977594947</td>\n",
       "      <td>Wizard of Oz, The (1939)</td>\n",
       "      <td>Adventure|Children's|Drama|Musical</td>\n",
       "    </tr>\n",
       "    <tr>\n",
       "      <th>17</th>\n",
       "      <td>100</td>\n",
       "      <td>924</td>\n",
       "      <td>4</td>\n",
       "      <td>977594873</td>\n",
       "      <td>2001: A Space Odyssey (1968)</td>\n",
       "      <td>Drama|Mystery|Sci-Fi|Thriller</td>\n",
       "    </tr>\n",
       "    <tr>\n",
       "      <th>29</th>\n",
       "      <td>100</td>\n",
       "      <td>969</td>\n",
       "      <td>4</td>\n",
       "      <td>977594044</td>\n",
       "      <td>African Queen, The (1951)</td>\n",
       "      <td>Action|Adventure|Romance|War</td>\n",
       "    </tr>\n",
       "    <tr>\n",
       "      <th>22</th>\n",
       "      <td>100</td>\n",
       "      <td>2406</td>\n",
       "      <td>4</td>\n",
       "      <td>977594142</td>\n",
       "      <td>Romancing the Stone (1984)</td>\n",
       "      <td>Action|Adventure|Comedy|Romance</td>\n",
       "    </tr>\n",
       "    <tr>\n",
       "      <th>47</th>\n",
       "      <td>100</td>\n",
       "      <td>318</td>\n",
       "      <td>4</td>\n",
       "      <td>977594839</td>\n",
       "      <td>Shawshank Redemption, The (1994)</td>\n",
       "      <td>Drama</td>\n",
       "    </tr>\n",
       "    <tr>\n",
       "      <th>20</th>\n",
       "      <td>100</td>\n",
       "      <td>858</td>\n",
       "      <td>4</td>\n",
       "      <td>977593950</td>\n",
       "      <td>Godfather, The (1972)</td>\n",
       "      <td>Action|Crime|Drama</td>\n",
       "    </tr>\n",
       "    <tr>\n",
       "      <th>49</th>\n",
       "      <td>100</td>\n",
       "      <td>329</td>\n",
       "      <td>4</td>\n",
       "      <td>977594297</td>\n",
       "      <td>Star Trek: Generations (1994)</td>\n",
       "      <td>Action|Adventure|Sci-Fi</td>\n",
       "    </tr>\n",
       "    <tr>\n",
       "      <th>50</th>\n",
       "      <td>100</td>\n",
       "      <td>260</td>\n",
       "      <td>4</td>\n",
       "      <td>977593595</td>\n",
       "      <td>Star Wars: Episode IV - A New Hope (1977)</td>\n",
       "      <td>Action|Adventure|Fantasy|Sci-Fi</td>\n",
       "    </tr>\n",
       "  </tbody>\n",
       "</table>\n",
       "</div>"
      ],
      "text/plain": [
       "    UID   MID  Rating       Time                                      Title  \\\n",
       "1   100   800       5  977593915                           Lone Star (1996)   \n",
       "63  100   527       5  977594839                    Schindler's List (1993)   \n",
       "16  100   919       5  977594947                   Wizard of Oz, The (1939)   \n",
       "17  100   924       4  977594873               2001: A Space Odyssey (1968)   \n",
       "29  100   969       4  977594044                  African Queen, The (1951)   \n",
       "22  100  2406       4  977594142                 Romancing the Stone (1984)   \n",
       "47  100   318       4  977594839           Shawshank Redemption, The (1994)   \n",
       "20  100   858       4  977593950                      Godfather, The (1972)   \n",
       "49  100   329       4  977594297              Star Trek: Generations (1994)   \n",
       "50  100   260       4  977593595  Star Wars: Episode IV - A New Hope (1977)   \n",
       "\n",
       "                                 Genre  \n",
       "1                        Drama|Mystery  \n",
       "63                           Drama|War  \n",
       "16  Adventure|Children's|Drama|Musical  \n",
       "17       Drama|Mystery|Sci-Fi|Thriller  \n",
       "29        Action|Adventure|Romance|War  \n",
       "22     Action|Adventure|Comedy|Romance  \n",
       "47                               Drama  \n",
       "20                  Action|Crime|Drama  \n",
       "49             Action|Adventure|Sci-Fi  \n",
       "50     Action|Adventure|Fantasy|Sci-Fi  "
      ]
     },
     "execution_count": 46,
     "metadata": {},
     "output_type": "execute_result"
    }
   ],
   "source": [
    "# Uncomment to run \n",
    "\n",
    "rated.head(10)"
   ]
  },
  {
   "cell_type": "code",
   "execution_count": 47,
   "metadata": {},
   "outputs": [
    {
     "name": "stdout",
     "output_type": "stream",
     "text": [
      "\n",
      "Top Ten recommendations for selected user\n"
     ]
    },
    {
     "data": {
      "text/html": [
       "<div>\n",
       "<style scoped>\n",
       "    .dataframe tbody tr th:only-of-type {\n",
       "        vertical-align: middle;\n",
       "    }\n",
       "\n",
       "    .dataframe tbody tr th {\n",
       "        vertical-align: top;\n",
       "    }\n",
       "\n",
       "    .dataframe thead th {\n",
       "        text-align: right;\n",
       "    }\n",
       "</style>\n",
       "<table border=\"1\" class=\"dataframe\">\n",
       "  <thead>\n",
       "    <tr style=\"text-align: right;\">\n",
       "      <th></th>\n",
       "      <th>MID</th>\n",
       "      <th>Title</th>\n",
       "      <th>Genre</th>\n",
       "    </tr>\n",
       "  </thead>\n",
       "  <tbody>\n",
       "    <tr>\n",
       "      <th>1311</th>\n",
       "      <td>1374</td>\n",
       "      <td>Star Trek: The Wrath of Khan (1982)</td>\n",
       "      <td>Action|Adventure|Sci-Fi</td>\n",
       "    </tr>\n",
       "    <tr>\n",
       "      <th>1148</th>\n",
       "      <td>1193</td>\n",
       "      <td>One Flew Over the Cuckoo's Nest (1975)</td>\n",
       "      <td>Drama</td>\n",
       "    </tr>\n",
       "    <tr>\n",
       "      <th>1312</th>\n",
       "      <td>1376</td>\n",
       "      <td>Star Trek IV: The Voyage Home (1986)</td>\n",
       "      <td>Action|Adventure|Sci-Fi</td>\n",
       "    </tr>\n",
       "    <tr>\n",
       "      <th>285</th>\n",
       "      <td>296</td>\n",
       "      <td>Pulp Fiction (1994)</td>\n",
       "      <td>Crime|Drama</td>\n",
       "    </tr>\n",
       "    <tr>\n",
       "      <th>570</th>\n",
       "      <td>590</td>\n",
       "      <td>Dances with Wolves (1990)</td>\n",
       "      <td>Adventure|Drama|Western</td>\n",
       "    </tr>\n",
       "    <tr>\n",
       "      <th>1184</th>\n",
       "      <td>1240</td>\n",
       "      <td>Terminator, The (1984)</td>\n",
       "      <td>Action|Sci-Fi|Thriller</td>\n",
       "    </tr>\n",
       "    <tr>\n",
       "      <th>877</th>\n",
       "      <td>912</td>\n",
       "      <td>Casablanca (1942)</td>\n",
       "      <td>Drama|Romance|War</td>\n",
       "    </tr>\n",
       "    <tr>\n",
       "      <th>1161</th>\n",
       "      <td>1214</td>\n",
       "      <td>Alien (1979)</td>\n",
       "      <td>Action|Horror|Sci-Fi|Thriller</td>\n",
       "    </tr>\n",
       "    <tr>\n",
       "      <th>1524</th>\n",
       "      <td>1617</td>\n",
       "      <td>L.A. Confidential (1997)</td>\n",
       "      <td>Crime|Film-Noir|Mystery|Thriller</td>\n",
       "    </tr>\n",
       "    <tr>\n",
       "      <th>997</th>\n",
       "      <td>1036</td>\n",
       "      <td>Die Hard (1988)</td>\n",
       "      <td>Action|Thriller</td>\n",
       "    </tr>\n",
       "  </tbody>\n",
       "</table>\n",
       "</div>"
      ],
      "text/plain": [
       "       MID                                   Title  \\\n",
       "1311  1374     Star Trek: The Wrath of Khan (1982)   \n",
       "1148  1193  One Flew Over the Cuckoo's Nest (1975)   \n",
       "1312  1376    Star Trek IV: The Voyage Home (1986)   \n",
       "285    296                     Pulp Fiction (1994)   \n",
       "570    590               Dances with Wolves (1990)   \n",
       "1184  1240                  Terminator, The (1984)   \n",
       "877    912                       Casablanca (1942)   \n",
       "1161  1214                            Alien (1979)   \n",
       "1524  1617                L.A. Confidential (1997)   \n",
       "997   1036                         Die Hard (1988)   \n",
       "\n",
       "                                 Genre  \n",
       "1311           Action|Adventure|Sci-Fi  \n",
       "1148                             Drama  \n",
       "1312           Action|Adventure|Sci-Fi  \n",
       "285                        Crime|Drama  \n",
       "570            Adventure|Drama|Western  \n",
       "1184            Action|Sci-Fi|Thriller  \n",
       "877                  Drama|Romance|War  \n",
       "1161     Action|Horror|Sci-Fi|Thriller  \n",
       "1524  Crime|Film-Noir|Mystery|Thriller  \n",
       "997                    Action|Thriller  "
      ]
     },
     "execution_count": 47,
     "metadata": {},
     "output_type": "execute_result"
    }
   ],
   "source": [
    "# Uncomment to run\n",
    "\n",
    "print (\"\\nTop Ten recommendations for selected user\" )\n",
    "recommended"
   ]
  },
  {
   "cell_type": "markdown",
   "metadata": {},
   "source": [
    "For above randomly selected user `100`, we can subjectively evaluate that the recommender is doing a decent job. The movies being recommended are quite similar in taste as movies already rated by user. Remember this system is built using only a small subset of the complete MovieLense database which carries potential for significant improvement in predictive performance.  "
   ]
  },
  {
   "cell_type": "markdown",
   "metadata": {},
   "source": [
    "## Level Up - Optional \n",
    "\n",
    "- Run the experiment again using validation testing to identify the optimal value of rank `k`\n",
    "- Create Test and Train datasets to predict and evaluate the ratings using a suitable method (e.g. RMSE)\n",
    "- How much of an improvement do you see in recommendations as a result of validation ? \n",
    "\n",
    "- Ask other interesting questions\n",
    "<img src=\"ideas.jpg\" width=400>"
   ]
  },
  {
   "cell_type": "markdown",
   "metadata": {},
   "source": [
    "## Additional Resources\n",
    "- https://towardsdatascience.com/how-to-build-a-simple-song-recommender-296fcbc8c85 - A similar system recommending songs to users\n",
    "\n",
    "- http://surpriselib.com/ Surprise is a Python Scikit is a very popular module for building receommendation systems"
   ]
  },
  {
   "cell_type": "markdown",
   "metadata": {},
   "source": [
    "## Summary\n",
    "\n",
    "In this lab, we learned that we can make good recommendations with collaborative filtering methods using latent features from low-rank matrix factorization methods. This technique also scales significantly better to larger datasets. We will next work with a larger MovieLense dataset and using the mapreduce techniques seen in the previous section, we will use PySpark to implement a similar approach using an implementation of matrix factorization called Alternating Least Squares (ALS) method. "
   ]
  }
 ],
 "metadata": {
  "kernelspec": {
   "display_name": "Python 3",
   "language": "python",
   "name": "python3"
  },
  "language_info": {
   "codemirror_mode": {
    "name": "ipython",
    "version": 3
   },
   "file_extension": ".py",
   "mimetype": "text/x-python",
   "name": "python",
   "nbconvert_exporter": "python",
   "pygments_lexer": "ipython3",
   "version": "3.6.6"
  }
 },
 "nbformat": 4,
 "nbformat_minor": 1
}
